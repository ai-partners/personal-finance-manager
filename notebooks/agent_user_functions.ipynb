{
 "cells": [
  {
   "cell_type": "code",
   "execution_count": 17,
   "id": "ebcd3883",
   "metadata": {},
   "outputs": [],
   "source": [
    "import os\n",
    "import pyodbc\n",
    "from dotenv import load_dotenv\n",
    "from azure.ai.projects import AIProjectClient\n",
    "from azure.identity import DefaultAzureCredential"
   ]
  },
  {
   "cell_type": "markdown",
   "id": "75f4008e",
   "metadata": {},
   "source": [
    "# Agent using user defined functions\n",
    "\n",
    "The code in this Jupyter Notebook demonstrates the creation and usage of an AI agent using Azure's AI Project Client. The agent is designed to assist with weather-related queries, specifically tracking snowfall in different locations. Below is a breakdown of the key components:\n",
    "\n",
    "1. **Environment Setup**:\n",
    "    - The `dotenv` library is used to load environment variables, such as the connection string for the Azure Project Client.\n",
    "    - The `DefaultAzureCredential` is used for authentication with Azure services.\n",
    "\n",
    "2. **User-Defined Function**:\n",
    "    - A custom function `recent_snowfall` is defined to fetch recent snowfall data for a given location. This function returns a JSON string containing the location and snowfall details.\n",
    "\n",
    "3. **Toolset Initialization**:\n",
    "    - The `FunctionTool` class is used to wrap the user-defined function, making it accessible to the AI agent.\n",
    "    - A `ToolSet` object is created, and the function tool is added to it.\n",
    "\n",
    "4. **Enabling Auto Function Calls**:\n",
    "    - The `enable_auto_function_calls` method is invoked on the `project_client.agents` object, passing the toolset as an argument. This step is crucial as it allows the agent to automatically call the user-defined functions when needed during its execution. Without this step, the agent would not be able to utilize the provided functions, and the code would fail to execute as intended.\n",
    "\n",
    "5. **Agent Creation**:\n",
    "    - The AI agent is created with specific instructions, a model (`gpt-4o-mini`), and the toolset containing the user-defined function. The agent is configured to use the function to answer snowfall-related queries.\n",
    "\n",
    "6. **Thread and Message Handling**:\n",
    "    - A thread is created for communication with the agent.\n",
    "    - A user message is sent to the thread, asking for snowfall information about Denver.\n",
    "    - The agent processes the message using the provided function and returns the response.\n",
    "\n",
    "7. **Cleanup**:\n",
    "    - The agent is deleted after use to free up resources.\n",
    "    - All messages in the thread are fetched and logged for review.\n",
    "\n",
    "By enabling auto function calls, the agent can seamlessly integrate the user-defined function into its workflow, ensuring that it can respond to queries effectively. This feature simplifies the process of extending the agent's capabilities with custom logic."
   ]
  },
  {
   "cell_type": "code",
   "execution_count": 18,
   "id": "b67e0bcc",
   "metadata": {},
   "outputs": [
    {
     "data": {
      "text/plain": [
       "True"
      ]
     },
     "execution_count": 18,
     "metadata": {},
     "output_type": "execute_result"
    }
   ],
   "source": [
    "load_dotenv()"
   ]
  },
  {
   "cell_type": "code",
   "execution_count": 19,
   "id": "d5f6d810",
   "metadata": {},
   "outputs": [],
   "source": [
    "project_client = AIProjectClient.from_connection_string(\n",
    "        credential=DefaultAzureCredential(),\n",
    "        conn_str=os.environ.get(\"PROJECT_CONNECTION_STRING\"),\n",
    "    )"
   ]
  },
  {
   "cell_type": "code",
   "execution_count": 20,
   "id": "6e19d00f",
   "metadata": {},
   "outputs": [],
   "source": [
    "import json\n",
    "from typing import Callable, Set, Any\n",
    "\n",
    "def recent_snowfall(location: str) -> str:\n",
    "    \"\"\"\n",
    "    Fetches recent snowfall totals for a given location.\n",
    "    :param location: The city name.\n",
    "    :return: Snowfall details as a JSON string.\n",
    "    \"\"\"\n",
    "    mock_snow_data = {\"Seattle\": \"0 inches\", \"Denver\": \"2 inches\"}\n",
    "    snow = mock_snow_data.get(location, \"Data not available.\")\n",
    "    return json.dumps({\"location\": location, \"snowfall\": snow})\n",
    "\n",
    "user_functions: Set[Callable[..., Any]] = {\n",
    "    recent_snowfall,\n",
    "}"
   ]
  },
  {
   "cell_type": "code",
   "execution_count": 21,
   "id": "873aa87b",
   "metadata": {},
   "outputs": [],
   "source": [
    "from azure.ai.projects.models._patch import FunctionTool\n",
    "from azure.ai.projects.models import ToolSet\n",
    "\n",
    "# Initialize agent toolset with user functions\n",
    "functions = FunctionTool(user_functions)\n",
    "toolset = ToolSet()\n",
    "toolset.add(functions)\n",
    "\n",
    "project_client.agents.enable_auto_function_calls(toolset=toolset)\n",
    "\n",
    "# Create your agent with the toolset\n",
    "agent = project_client.agents.create_agent(\n",
    "    model=\"gpt-4o-mini\",\n",
    "    name=\"snowfall-agent\",\n",
    "    instructions=\"You are a weather assistant tracking snowfall. Use the provided functions to answer questions. When the user asks about snowfall, use the recent_snowfall function.\",\n",
    "    toolset=toolset\n",
    ")"
   ]
  },
  {
   "cell_type": "code",
   "execution_count": 22,
   "id": "e837154e",
   "metadata": {},
   "outputs": [
    {
     "name": "stdout",
     "output_type": "stream",
     "text": [
      "Created thread, ID: thread_VoPTgFYCNlkW25gEBHkQRtMU\n",
      "Created message, ID: msg_V9pVP7r8LVnJFKOb6oVOgwJr\n",
      "Run finished with status: RunStatus.COMPLETED\n",
      "Deleted agent\n",
      "Messages: {'object': 'list', 'data': [{'id': 'msg_p09vTUFHWzbUKyhpJU4y4pAn', 'object': 'thread.message', 'created_at': 1745167227, 'assistant_id': 'asst_H0XyQsstdKpbyDrP1AG82s2r', 'thread_id': 'thread_VoPTgFYCNlkW25gEBHkQRtMU', 'run_id': 'run_DMnQcaItidcVvUd0bikNxKeO', 'role': 'assistant', 'content': [{'type': 'text', 'text': {'value': 'Recent snowfall in Denver is 2 inches. If you need more information, feel free to ask!', 'annotations': []}}], 'attachments': [], 'metadata': {}}, {'id': 'msg_V9pVP7r8LVnJFKOb6oVOgwJr', 'object': 'thread.message', 'created_at': 1745167222, 'assistant_id': None, 'thread_id': 'thread_VoPTgFYCNlkW25gEBHkQRtMU', 'run_id': None, 'role': 'user', 'content': [{'type': 'text', 'text': {'value': 'Hello, send  information about Denver?', 'annotations': []}}], 'attachments': [], 'metadata': {}}], 'first_id': 'msg_p09vTUFHWzbUKyhpJU4y4pAn', 'last_id': 'msg_V9pVP7r8LVnJFKOb6oVOgwJr', 'has_more': False}\n"
     ]
    }
   ],
   "source": [
    "# Create thread for communication\n",
    "thread = project_client.agents.create_thread()\n",
    "print(f\"Created thread, ID: {thread.id}\")\n",
    "\n",
    "# Create message to thread\n",
    "message = project_client.agents.create_message(\n",
    "    thread_id=thread.id,\n",
    "    role=\"user\",\n",
    "    content=\"Hello, send  information about Denver?\",\n",
    ")\n",
    "print(f\"Created message, ID: {message.id}\")\n",
    "\n",
    "# Create and process agent run in thread with tools\n",
    "run = project_client.agents.create_and_process_run(thread_id=thread.id, agent_id=agent.id)\n",
    "print(f\"Run finished with status: {run.status}\")\n",
    "\n",
    "if run.status == \"failed\":\n",
    "    print(f\"Run failed: {run.last_error}\")\n",
    "\n",
    "# Delete the agent when done\n",
    "project_client.agents.delete_agent(agent.id)\n",
    "print(\"Deleted agent\")\n",
    "\n",
    "# Fetch and log all messages\n",
    "messages = project_client.agents.list_messages(thread_id=thread.id)\n",
    "print(f\"Messages: {messages}\")"
   ]
  },
  {
   "cell_type": "code",
   "execution_count": 23,
   "id": "d1bf0031",
   "metadata": {},
   "outputs": [
    {
     "data": {
      "text/plain": [
       "'Recent snowfall in Denver is 2 inches. If you need more information, feel free to ask!'"
      ]
     },
     "execution_count": 23,
     "metadata": {},
     "output_type": "execute_result"
    }
   ],
   "source": [
    "messages.data[0].content[0].text.value"
   ]
  },
  {
   "cell_type": "code",
   "execution_count": null,
   "id": "48801e2a",
   "metadata": {},
   "outputs": [],
   "source": []
  }
 ],
 "metadata": {
  "kernelspec": {
   "display_name": ".venv",
   "language": "python",
   "name": "python3"
  },
  "language_info": {
   "codemirror_mode": {
    "name": "ipython",
    "version": 3
   },
   "file_extension": ".py",
   "mimetype": "text/x-python",
   "name": "python",
   "nbconvert_exporter": "python",
   "pygments_lexer": "ipython3",
   "version": "3.13.2"
  }
 },
 "nbformat": 4,
 "nbformat_minor": 5
}
