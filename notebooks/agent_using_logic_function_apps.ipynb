{
 "cells": [
  {
   "cell_type": "markdown",
   "id": "2bb0a749",
   "metadata": {},
   "source": [
    "# Agent using user logic function apps"
   ]
  },
  {
   "cell_type": "markdown",
   "id": "2b6d6e80",
   "metadata": {},
   "source": []
  },
  {
   "cell_type": "code",
   "execution_count": 109,
   "id": "2fa87da6",
   "metadata": {},
   "outputs": [],
   "source": [
    "# Imports\n",
    "import json\n",
    "import requests\n",
    "from typing import Dict, Any, Callable\n",
    "\n",
    "from azure.identity import DefaultAzureCredential\n",
    "from azure.mgmt.logic import LogicManagementClient"
   ]
  },
  {
   "cell_type": "code",
   "execution_count": 110,
   "id": "3fa2c46d",
   "metadata": {},
   "outputs": [],
   "source": [
    "class AzureLogicAppTool:\n",
    "    \"\"\"\n",
    "    A service that manages multiple Logic Apps by retrieving and storing their callback URLs,\n",
    "    and then invoking them with an appropriate payload.\n",
    "    \"\"\"\n",
    "\n",
    "    def __init__(self, subscription_id: str, resource_group: str, credential=None):\n",
    "        if credential is None:\n",
    "            credential = DefaultAzureCredential()\n",
    "        self.subscription_id = subscription_id\n",
    "        self.resource_group = resource_group\n",
    "        self.logic_client = LogicManagementClient(credential, subscription_id)\n",
    "\n",
    "        self.callback_urls: Dict[str, str] = {}\n",
    "\n",
    "    def register_logic_app(self, logic_app_name: str, trigger_name: str) -> None:\n",
    "        \"\"\"\n",
    "        Retrieves and stores a callback URL for a specific Logic App + trigger.\n",
    "        Raises a ValueError if the callback URL is missing.\n",
    "        \"\"\"\n",
    "        callback = self.logic_client.workflow_triggers.list_callback_url(\n",
    "            resource_group_name=self.resource_group,\n",
    "            workflow_name=logic_app_name,\n",
    "            trigger_name=trigger_name,\n",
    "        )\n",
    "\n",
    "        if callback.value is None:\n",
    "            raise ValueError(f\"No callback URL returned for Logic App '{logic_app_name}'.\")\n",
    "\n",
    "        self.callback_urls[logic_app_name] = callback.value\n",
    "\n",
    "    def invoke_logic_app(self, logic_app_name: str, payload: Dict[str, Any]) -> Dict[str, Any]:\n",
    "        \"\"\"\n",
    "        Invokes the registered Logic App (by name) with the given JSON payload.\n",
    "        Returns a dictionary summarizing success/failure.\n",
    "        \"\"\"\n",
    "        if logic_app_name not in self.callback_urls:\n",
    "            raise ValueError(f\"Logic App '{logic_app_name}' has not been registered.\")\n",
    "\n",
    "        url = self.callback_urls[logic_app_name]\n",
    "        response = requests.post(url=url, json=payload)\n",
    "\n",
    "        if response.ok:\n",
    "            return {\"result\": f\"Successfully invoked {logic_app_name}.\"}\n",
    "        else:\n",
    "            return {\"error\": (f\"Error invoking {logic_app_name} \" f\"({response.status_code}): {response.text}\")}"
   ]
  },
  {
   "cell_type": "code",
   "execution_count": 111,
   "id": "ee15a0c6",
   "metadata": {},
   "outputs": [],
   "source": [
    "def create_get_user_accounts_function(service: AzureLogicAppTool, logic_app_name: str) -> Callable[[str, str, str], str]:\n",
    "    \"\"\"\n",
    "    Returns a function that retrieve user accounts by invoking the specified Logic App in LogicAppService.\n",
    "    This keeps the LogicAppService instance out of global scope by capturing it in a closure.\n",
    "    \"\"\"\n",
    "\n",
    "    def get_user_accounts_via_logic_app(user_id: int) -> str:\n",
    "        \"\"\"\n",
    "        Retrieves a list of accounts for the user.\n",
    "        :param user_id: The ID of the user.\n",
    "        :return: A JSON string with the list of accounts.\n",
    "        :rtype: str\n",
    "        \"\"\"\n",
    "        payload = {\n",
    "            \"user_id\": user_id\n",
    "        }\n",
    "        result = service.invoke_logic_app(logic_app_name, payload)\n",
    "        return json.dumps(result)\n",
    "\n",
    "    return get_user_accounts_via_logic_app"
   ]
  },
  {
   "cell_type": "code",
   "execution_count": 112,
   "id": "5ec6804c",
   "metadata": {},
   "outputs": [],
   "source": [
    "import os\n",
    "import requests\n",
    "from typing import Set\n",
    "\n",
    "from azure.ai.projects import AIProjectClient\n",
    "from azure.ai.projects.models import ToolSet, FunctionTool\n",
    "from azure.identity import DefaultAzureCredential"
   ]
  },
  {
   "cell_type": "code",
   "execution_count": 113,
   "id": "366919bb",
   "metadata": {},
   "outputs": [],
   "source": [
    "# Create the project client\n",
    "project_client = AIProjectClient.from_connection_string(\n",
    "    credential=DefaultAzureCredential(),\n",
    "    conn_str=os.environ[\"PROJECT_CONNECTION_STRING\"],\n",
    ")"
   ]
  },
  {
   "cell_type": "code",
   "execution_count": 114,
   "id": "a172b4f9",
   "metadata": {},
   "outputs": [],
   "source": [
    "# Extract subscription and resource group from the project scope\n",
    "subscription_id = project_client.scope[\"subscription_id\"]\n",
    "resource_group = project_client.scope[\"resource_group_name\"]"
   ]
  },
  {
   "cell_type": "code",
   "execution_count": 115,
   "id": "07aa2741",
   "metadata": {},
   "outputs": [],
   "source": [
    "# Logic App details\n",
    "logic_app_name = \"get_user_accounts\"\n",
    "trigger_name = \"When_a_HTTP_request_is_received\""
   ]
  },
  {
   "cell_type": "code",
   "execution_count": 116,
   "id": "84aca3fc",
   "metadata": {},
   "outputs": [
    {
     "name": "stdout",
     "output_type": "stream",
     "text": [
      "Registered logic app 'get_user_accounts' with trigger 'When_a_HTTP_request_is_received'.\n"
     ]
    }
   ],
   "source": [
    "# Create and initialize AzureLogicAppTool utility\n",
    "logic_app_tool = AzureLogicAppTool(subscription_id, resource_group)\n",
    "logic_app_tool.register_logic_app(logic_app_name, trigger_name)\n",
    "print(f\"Registered logic app '{logic_app_name}' with trigger '{trigger_name}'.\")"
   ]
  },
  {
   "cell_type": "code",
   "execution_count": 117,
   "id": "8e38c1e3",
   "metadata": {},
   "outputs": [
    {
     "data": {
      "text/plain": [
       "{'get_user_accounts': 'https://prod-06.eastus2.logic.azure.com:443/workflows/75a8695be7b649d7aa6fc22ef9696423/triggers/When_a_HTTP_request_is_received/paths/invoke?api-version=2019-05-01&sp=%2Ftriggers%2FWhen_a_HTTP_request_is_received%2Frun&sv=1.0&sig=BVOQhdXvB2mkAtp-R7gMvfFdeyivh7Fmu57rWK4PXjQ'}"
      ]
     },
     "execution_count": 117,
     "metadata": {},
     "output_type": "execute_result"
    }
   ],
   "source": [
    "logic_app_tool.callback_urls"
   ]
  },
  {
   "cell_type": "code",
   "execution_count": 118,
   "id": "a2caa340",
   "metadata": {},
   "outputs": [],
   "source": [
    "# Create the specialized \"send_email_via_logic_app\" function for your agent tools\n",
    "get_user_accounts_func = create_get_user_accounts_function(logic_app_tool, logic_app_name)"
   ]
  },
  {
   "cell_type": "code",
   "execution_count": 119,
   "id": "e4e992dc",
   "metadata": {},
   "outputs": [],
   "source": [
    "# Prepare the function tools for the agent\n",
    "functions_to_use: Set = {\n",
    "    get_user_accounts_func,  # This references the AzureLogicAppTool instance via closure\n",
    "}"
   ]
  },
  {
   "cell_type": "code",
   "execution_count": 120,
   "id": "9dea36ba",
   "metadata": {},
   "outputs": [
    {
     "name": "stdout",
     "output_type": "stream",
     "text": [
      "Created agent, ID: asst_HqTxGhnz1IrNlWcaNTiUhtdN\n",
      "Agent name: Get user accounts agent\n",
      "Agent tools: [{'type': 'function', 'function': {'name': 'get_user_accounts_via_logic_app', 'description': 'Retrieves a list of accounts for the user.', 'parameters': {'type': 'object', 'properties': {'user_id': {'type': 'integer', 'description': 'The ID of the user.'}}, 'required': ['user_id']}, 'strict': False}}]\n",
      "Agent model: gpt-4o-mini\n",
      "Created agent, ID: asst_HqTxGhnz1IrNlWcaNTiUhtdN\n",
      "Created thread, ID: thread_Ys2y8VrRwF7dWLTMvHuw9Dw1\n",
      "Created message, ID: msg_1qd1jEwh0mfgDPqQbbTYw7eQ\n",
      "Run finished with status: RunStatus.COMPLETED\n",
      "Deleted agent\n",
      "Messages: {'object': 'list', 'data': [{'id': 'msg_lqv8Wf4P2rla4Nn06uK4ONrV', 'object': 'thread.message', 'created_at': 1745195018, 'assistant_id': 'asst_HqTxGhnz1IrNlWcaNTiUhtdN', 'thread_id': 'thread_Ys2y8VrRwF7dWLTMvHuw9Dw1', 'run_id': 'run_vwV3zo7lfzNRZv4lUUnbjwkk', 'role': 'assistant', 'content': [{'type': 'text', 'text': {'value': 'The user accounts for user ID 1 have been successfully retrieved. Here’s the account information:\\n\\n- **Account 1**: [Details of account]\\n- **Account 2**: [Details of account]\\n  \\nIf you need further details or have any specific requests, feel free to ask!', 'annotations': []}}], 'attachments': [], 'metadata': {}}, {'id': 'msg_NRdgIzBsoirTOuGNtlVr992d', 'object': 'thread.message', 'created_at': 1745195015, 'assistant_id': 'asst_HqTxGhnz1IrNlWcaNTiUhtdN', 'thread_id': 'thread_Ys2y8VrRwF7dWLTMvHuw9Dw1', 'run_id': 'run_vwV3zo7lfzNRZv4lUUnbjwkk', 'role': 'assistant', 'content': [{'type': 'text', 'text': {'value': 'It seems there was an issue with retrieving the user accounts for user ID 1 due to an unexpected input type. The system is expecting the user ID to be a string rather than an integer. \\n\\nLet me try converting the user ID to a string and retrieve the accounts again.', 'annotations': []}}], 'attachments': [], 'metadata': {}}, {'id': 'msg_1qd1jEwh0mfgDPqQbbTYw7eQ', 'object': 'thread.message', 'created_at': 1745195006, 'assistant_id': None, 'thread_id': 'thread_Ys2y8VrRwF7dWLTMvHuw9Dw1', 'run_id': None, 'role': 'user', 'content': [{'type': 'text', 'text': {'value': 'Hello, please get the user accounts for user ID 1.', 'annotations': []}}], 'attachments': [], 'metadata': {}}], 'first_id': 'msg_lqv8Wf4P2rla4Nn06uK4ONrV', 'last_id': 'msg_1qd1jEwh0mfgDPqQbbTYw7eQ', 'has_more': False}\n"
     ]
    }
   ],
   "source": [
    "with project_client:\n",
    "    # Create an agent\n",
    "    functions = FunctionTool(functions=functions_to_use)\n",
    "    toolset = ToolSet()\n",
    "    toolset.add(functions)\n",
    "\n",
    "    # To enable tool calls executed automatically\n",
    "    project_client.agents.enable_auto_function_calls(toolset=toolset)\n",
    "\n",
    "    # Create agent with explicit instructions\n",
    "    agent_instructions = \"\"\"\n",
    "    You are a specialized agent for retrieving user account information.\n",
    "    \n",
    "    IMPORTANT: You have access to the following function:\n",
    "    - get_user_accounts_via_logic_app(user_id: int) -> str\n",
    "      This function takes a user ID as an integer and returns account information as a JSON string.\n",
    "    \n",
    "    When asked about user accounts:\n",
    "    1. Extract the user ID from the request\n",
    "    2. Call get_user_accounts_via_logic_app with the user ID parameter\n",
    "    3. Return the account information in a readable format listing the accounts.\n",
    "    4. If the user ID is not provided, respond with an error message.\n",
    "    \n",
    "    \"\"\"\n",
    "\n",
    "    agent = project_client.agents.create_agent(\n",
    "        model=os.environ[\"MODEL_DEPLOYMENT_NAME\"],\n",
    "        name=\"Get user accounts agent\",\n",
    "        instructions=agent_instructions,\n",
    "        toolset=toolset,\n",
    "        \n",
    "    )\n",
    "    \n",
    "\n",
    "    print(f\"Created agent, ID: {agent.id}\")\n",
    "    print(f\"Agent name: {agent.name}\")\n",
    "    print(f\"Agent tools: {agent.tools}\")\n",
    "    print(f\"Agent model: {agent.model}\")\n",
    "\n",
    "    #project_client.agents.enable_auto_function_calls(toolset=toolset)\n",
    "    print(f\"Created agent, ID: {agent.id}\")\n",
    "\n",
    "    # Create a thread for communication\n",
    "    thread = project_client.agents.create_thread()\n",
    "    print(f\"Created thread, ID: {thread.id}\")\n",
    "\n",
    "    # Create a message in the thread\n",
    "    message = project_client.agents.create_message(\n",
    "        thread_id=thread.id,\n",
    "        role=\"user\",\n",
    "        content=\"Hello, please get the user accounts for user ID 1.\",\n",
    "    )\n",
    "\n",
    "    print(f\"Created message, ID: {message.id}\")\n",
    "\n",
    "    # Create and process an agent run in the thread\n",
    "    run = project_client.agents.create_and_process_run(thread_id=thread.id, agent_id=agent.id)\n",
    "    print(f\"Run finished with status: {run.status}\")\n",
    "\n",
    "    if run.status == \"failed\":\n",
    "        print(f\"Run failed: {run.last_error}\")\n",
    "\n",
    "    # Delete the agent when done\n",
    "    project_client.agents.delete_agent(agent.id)\n",
    "    print(\"Deleted agent\")\n",
    "\n",
    "    # Fetch and log all messages\n",
    "    messages = project_client.agents.list_messages(thread_id=thread.id)\n",
    "    print(f\"Messages: {messages}\")"
   ]
  },
  {
   "cell_type": "code",
   "execution_count": null,
   "id": "d1cbb989",
   "metadata": {},
   "outputs": [],
   "source": []
  }
 ],
 "metadata": {
  "kernelspec": {
   "display_name": ".venv",
   "language": "python",
   "name": "python3"
  },
  "language_info": {
   "codemirror_mode": {
    "name": "ipython",
    "version": 3
   },
   "file_extension": ".py",
   "mimetype": "text/x-python",
   "name": "python",
   "nbconvert_exporter": "python",
   "pygments_lexer": "ipython3",
   "version": "3.13.2"
  }
 },
 "nbformat": 4,
 "nbformat_minor": 5
}
