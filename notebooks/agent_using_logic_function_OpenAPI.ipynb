{
 "cells": [
  {
   "cell_type": "markdown",
   "id": "72db533e",
   "metadata": {},
   "source": [
    "# Agent using logic fuction OpenAPI"
   ]
  },
  {
   "cell_type": "code",
   "execution_count": 25,
   "id": "91499380",
   "metadata": {},
   "outputs": [
    {
     "data": {
      "text/plain": [
       "True"
      ]
     },
     "execution_count": 25,
     "metadata": {},
     "output_type": "execute_result"
    }
   ],
   "source": [
    "import os\n",
    "import jsonref\n",
    "from typing import Set\n",
    "from dotenv import load_dotenv\n",
    "import json\n",
    "from azure.ai.projects import AIProjectClient\n",
    "from azure.identity import DefaultAzureCredential\n",
    "from azure.ai.projects.models import OpenApiTool, OpenApiAnonymousAuthDetails\n",
    "\n",
    "load_dotenv()"
   ]
  },
  {
   "cell_type": "code",
   "execution_count": 26,
   "id": "82baa2aa",
   "metadata": {},
   "outputs": [],
   "source": [
    "try:\n",
    "    with open(\"./openapi_get_user_accounts.json\", \"r\") as f:\n",
    "        openapi_get_user_accounts_logic_app = jsonref.loads(f.read())\n",
    "except json.JSONDecodeError as e:\n",
    "    print(f\"Error decoding JSON: {e}\")\n",
    "except FileNotFoundError:\n",
    "    print(\"File not found. Please check the file path.\")"
   ]
  },
  {
   "cell_type": "code",
   "execution_count": 27,
   "id": "dd1d7163",
   "metadata": {},
   "outputs": [],
   "source": [
    "# 1. Authenticate with the Azure AI project service\n",
    "project_client = AIProjectClient.from_connection_string(\n",
    "    credential=DefaultAzureCredential(),\n",
    "    conn_str=os.environ.get(\"PROJECT_CONNECTION_STRING\"),\n",
    ")\n",
    "\n",
    "# 2. Add functions to the agent\n",
    "auth = OpenApiAnonymousAuthDetails()"
   ]
  },
  {
   "cell_type": "code",
   "execution_count": 28,
   "id": "07379481",
   "metadata": {},
   "outputs": [],
   "source": [
    "openapi_tool = OpenApiTool(\n",
    "    name=\"record_account_logic_app\",\n",
    "    spec=openapi_get_user_accounts_logic_app,\n",
    "    description=\"Registra un medio transaccional en la tabla de cuentas\",\n",
    "    auth=auth,\n",
    "    default_parameters=[\"format\"],\n",
    "    )"
   ]
  },
  {
   "cell_type": "code",
   "execution_count": 29,
   "id": "1ca59c82",
   "metadata": {},
   "outputs": [
    {
     "data": {
      "text/plain": [
       "[{'type': 'openapi', 'openapi': {'name': 'record_account_logic_app', 'description': 'Registra un medio transaccional en la tabla de cuentas', 'spec': {'openapi': '3.0.0', 'info': {'title': 'get_user_accounts', 'description': 'Retrieves a list of accounts for the user.', 'version': '1.0.0.0'}, 'servers': [{'url': 'https://prod-06.eastus2.logic.azure.com/workflows/75a8695be7b649d7aa6fc22ef9696423/triggers'}], 'paths': {'/When_a_HTTP_request_is_received/paths/invoke': {'post': {'summary': 'Get User Accounts', 'description': 'Retrieves a list of accounts for the user.', 'operationId': 'GetUserAccounts', 'parameters': [{'name': 'api-version', 'in': 'query', 'description': 'The service API version.', 'required': True, 'schema': {'type': 'string', 'default': '2016-10-01'}}, {'name': 'sp', 'in': 'query', 'description': \"The permissions; generally 'read' or 'write'.\", 'required': True, 'schema': {'type': 'string', 'default': '/triggers/When_a_HTTP_request_is_received/run'}}, {'name': 'sv', 'in': 'query', 'description': 'The version number of the query parameters.', 'required': True, 'schema': {'type': 'string', 'default': '1.0'}}, {'name': 'sig', 'in': 'query', 'description': 'The SHA 256 hash of the entire request URI with an internal key.', 'required': True, 'schema': {'type': 'string', 'default': 'BVOQhdXvB2mkAtp-R7gMvfFdeyivh7Fmu57rWK4PXjQ'}}], 'requestBody': {'description': 'Request parameters', 'required': False, 'content': {'application/json': {'schema': {'type': 'object', 'properties': {'user_id': {'type': 'string', 'description': 'The unique identifier for the user'}}, 'required': ['user_id']}}}}, 'responses': {'200': {'description': 'Successful operation returning a list of accounts for the user', 'content': {'application/json': {'schema': {'type': 'object', 'properties': {'accounts': {'type': 'array', 'items': {'type': 'object', 'properties': {'Id': {'type': 'integer', 'format': 'int32', 'description': 'The unique identifier for the account'}, 'Name': {'type': 'string', 'maxLength': 100, 'description': 'The name of the account'}, 'Type': {'type': 'string', 'maxLength': 50, 'description': 'The type of account (e.g., checking, savings, credit card)', 'nullable': True}}, 'required': ['Id', 'Name']}, 'description': 'List of user accounts'}, 'count': {'type': 'integer', 'format': 'int32', 'description': 'Total number of accounts returned'}}, 'required': ['accounts', 'count']}, 'example': {'accounts': [{'Id': 1, 'Name': 'Checking Account', 'Type': 'checking'}, {'Id': 2, 'Name': 'Savings Account', 'Type': 'savings'}], 'count': 2}}}}, '400': {'description': 'Bad request - invalid or missing user_id', 'content': {'application/json': {'schema': {'type': 'object', 'properties': {'error': {'type': 'object', 'properties': {'code': {'type': 'string', 'description': 'Error code'}, 'message': {'type': 'string', 'description': 'Error message'}, 'details': {'type': 'string', 'description': 'Additional error details when available', 'nullable': True}}, 'required': ['code', 'message']}}, 'required': ['error']}}}}, '401': {'description': 'Unauthorized - authentication required', 'content': {'application/json': {'schema': {'type': 'object', 'properties': {'error': {'type': 'object', 'properties': {'code': {'type': 'string', 'description': 'Error code'}, 'message': {'type': 'string', 'description': 'Error message'}, 'details': {'type': 'string', 'description': 'Additional error details when available', 'nullable': True}}, 'required': ['code', 'message']}}, 'required': ['error']}}}}, '500': {'description': 'Internal server error', 'content': {'application/json': {'schema': {'type': 'object', 'properties': {'error': {'type': 'object', 'properties': {'code': {'type': 'string', 'description': 'Error code'}, 'message': {'type': 'string', 'description': 'Error message'}, 'details': {'type': 'string', 'description': 'Additional error details when available', 'nullable': True}}, 'required': ['code', 'message']}}, 'required': ['error']}}}}}}}}, 'components': {'schemas': {'UserAccountRequest': {'type': 'object', 'properties': {'user_id': {'type': 'string', 'description': 'The unique identifier for the user'}}, 'required': ['user_id']}, 'Account': {'type': 'object', 'properties': {'Id': {'type': 'integer', 'format': 'int32', 'description': 'The unique identifier for the account'}, 'Name': {'type': 'string', 'maxLength': 100, 'description': 'The name of the account'}, 'Type': {'type': 'string', 'maxLength': 50, 'description': 'The type of account (e.g., checking, savings, credit card)', 'nullable': True}}, 'required': ['Id', 'Name']}, 'AccountsResponse': {'type': 'object', 'properties': {'accounts': {'type': 'array', 'items': {'type': 'object', 'properties': {'Id': {'type': 'integer', 'format': 'int32', 'description': 'The unique identifier for the account'}, 'Name': {'type': 'string', 'maxLength': 100, 'description': 'The name of the account'}, 'Type': {'type': 'string', 'maxLength': 50, 'description': 'The type of account (e.g., checking, savings, credit card)', 'nullable': True}}, 'required': ['Id', 'Name']}, 'description': 'List of user accounts'}, 'count': {'type': 'integer', 'format': 'int32', 'description': 'Total number of accounts returned'}}, 'required': ['accounts', 'count']}, 'ErrorResponse': {'type': 'object', 'properties': {'error': {'type': 'object', 'properties': {'code': {'type': 'string', 'description': 'Error code'}, 'message': {'type': 'string', 'description': 'Error message'}, 'details': {'type': 'string', 'description': 'Additional error details when available', 'nullable': True}}, 'required': ['code', 'message']}}, 'required': ['error']}}}}, 'auth': {'type': 'anonymous'}, 'default_params': ['format']}}]"
      ]
     },
     "execution_count": 29,
     "metadata": {},
     "output_type": "execute_result"
    }
   ],
   "source": [
    "openapi_tool.definitions"
   ]
  },
  {
   "cell_type": "code",
   "execution_count": 30,
   "id": "97331c48",
   "metadata": {},
   "outputs": [
    {
     "name": "stdout",
     "output_type": "stream",
     "text": [
      "Created agent, ID: asst_w2TWqzP21nzDGGVxX9BriBXO\n",
      "Created thread, ID: thread_474cvWO2LNxXgYaRpd4JeXQr\n",
      "Created thread, ID: thread_474cvWO2LNxXgYaRpd4JeXQr\n",
      "Created message, ID: msg_zlu4dUQ5Qso6pfuusMxaSmnY\n",
      "Created message, ID: msg_zlu4dUQ5Qso6pfuusMxaSmnY\n",
      "Run finished with status: RunStatus.COMPLETED\n",
      "Run finished with status: RunStatus.COMPLETED\n",
      "Messages: {'object': 'list', 'data': [{'id': 'msg_LdzoIUBHeachCwuYLnlZO601', 'object': 'thread.message', 'created_at': 1745195190, 'assistant_id': 'asst_w2TWqzP21nzDGGVxX9BriBXO', 'thread_id': 'thread_474cvWO2LNxXgYaRpd4JeXQr', 'run_id': 'run_bXpRRlf3QCi4eDQThadTMwbB', 'role': 'assistant', 'content': [{'type': 'text', 'text': {'value': 'I successfully retrieved the account information for user ID 1. Here are the details of the accounts:\\n\\n1. **Checking Account** \\n   - Type: Bank\\n2. **Savings Account** \\n   - Type: Bank\\n3. **Credit Card** \\n   - Type: Credit\\n4. **Ahorros Davivienda** \\n   - Type: Activo\\n5. **Davivienda** \\n   - Type: Activo\\n6. **Davivienda** \\n   - Type: Ahorros\\n7. **Comida** \\n   - Type: Gasto\\n8. **Davivienda** \\n   - Type: Activo\\n9. **Davivienda** \\n   - Type: Activo\\n10. **Davivienda** \\n    - Type: Activo\\n\\nIf you need more information or further assistance, feel free to ask!', 'annotations': []}}], 'attachments': [], 'metadata': {}}, {'id': 'msg_zlu4dUQ5Qso6pfuusMxaSmnY', 'object': 'thread.message', 'created_at': 1745195185, 'assistant_id': None, 'thread_id': 'thread_474cvWO2LNxXgYaRpd4JeXQr', 'run_id': None, 'role': 'user', 'content': [{'type': 'text', 'text': {'value': 'Hello, please get the user accounts for user ID 1.', 'annotations': []}}], 'attachments': [], 'metadata': {}}], 'first_id': 'msg_LdzoIUBHeachCwuYLnlZO601', 'last_id': 'msg_zlu4dUQ5Qso6pfuusMxaSmnY', 'has_more': False}\n",
      "Messages: {'object': 'list', 'data': [{'id': 'msg_LdzoIUBHeachCwuYLnlZO601', 'object': 'thread.message', 'created_at': 1745195190, 'assistant_id': 'asst_w2TWqzP21nzDGGVxX9BriBXO', 'thread_id': 'thread_474cvWO2LNxXgYaRpd4JeXQr', 'run_id': 'run_bXpRRlf3QCi4eDQThadTMwbB', 'role': 'assistant', 'content': [{'type': 'text', 'text': {'value': 'I successfully retrieved the account information for user ID 1. Here are the details of the accounts:\\n\\n1. **Checking Account** \\n   - Type: Bank\\n2. **Savings Account** \\n   - Type: Bank\\n3. **Credit Card** \\n   - Type: Credit\\n4. **Ahorros Davivienda** \\n   - Type: Activo\\n5. **Davivienda** \\n   - Type: Activo\\n6. **Davivienda** \\n   - Type: Ahorros\\n7. **Comida** \\n   - Type: Gasto\\n8. **Davivienda** \\n   - Type: Activo\\n9. **Davivienda** \\n   - Type: Activo\\n10. **Davivienda** \\n    - Type: Activo\\n\\nIf you need more information or further assistance, feel free to ask!', 'annotations': []}}], 'attachments': [], 'metadata': {}}, {'id': 'msg_zlu4dUQ5Qso6pfuusMxaSmnY', 'object': 'thread.message', 'created_at': 1745195185, 'assistant_id': None, 'thread_id': 'thread_474cvWO2LNxXgYaRpd4JeXQr', 'run_id': None, 'role': 'user', 'content': [{'type': 'text', 'text': {'value': 'Hello, please get the user accounts for user ID 1.', 'annotations': []}}], 'attachments': [], 'metadata': {}}], 'first_id': 'msg_LdzoIUBHeachCwuYLnlZO601', 'last_id': 'msg_zlu4dUQ5Qso6pfuusMxaSmnY', 'has_more': False}\n"
     ]
    }
   ],
   "source": [
    "with project_client:\n",
    "        \n",
    "        # Create agent with explicit instructions\n",
    "        agent_instructions = \"\"\"\n",
    "        You are a specialized agent for retrieving user account information.\n",
    "        \n",
    "        IMPORTANT: You have access to the following function:\n",
    "        - record_account_logic_app(user_id: int) -> str\n",
    "        This function takes a user ID as an integer and returns account information as a JSON string.\n",
    "        \n",
    "        When asked about user accounts:\n",
    "        1. Extract the user ID from the request\n",
    "        2. Call record_account_logic_app with the user ID parameter\n",
    "        3. Return the account information in a readable format\n",
    "        \n",
    "        Always confirm when you've successfully retrieved the information.\n",
    "        \"\"\"\n",
    "\n",
    "        agent = project_client.agents.create_agent(\n",
    "            model=os.environ[\"MODEL_DEPLOYMENT_NAME\"],\n",
    "            name=\"Agent2-Inputs\",\n",
    "            instructions=agent_instructions,\n",
    "            tools=openapi_tool.definitions,\n",
    "        )\n",
    "        print(f\"Created agent, ID: {agent.id}\")\n",
    "        \n",
    "        # Create a thread for communication\n",
    "        thread = project_client.agents.create_thread()\n",
    "        print(f\"Created thread, ID: {thread.id}\")\n",
    "\n",
    "        # Create a message in the thread\n",
    "        # Test account creation\n",
    "        # msgcontent = \"Quiero registrar una cuenta que se llama Davivienda, es de ahorros. Es mi cuenta de nómina. Mi ID de usuario es 1.\"\n",
    "        # Test category creation\n",
    "        msgcontent = \"Hello, please get the user accounts for user ID 1.\"\n",
    "        message = project_client.agents.create_message(\n",
    "            thread_id=thread.id,\n",
    "            role=\"user\",\n",
    "            content=msgcontent,\n",
    "        )\n",
    "        print(f\"Created message, ID: {message.id}\")\n",
    "\n",
    "        # Create and process an agent run in the thread\n",
    "        run = project_client.agents.create_and_process_run(thread_id=thread.id, agent_id=agent.id)\n",
    "        print(f\"Run finished with status: {run.status}\")\n",
    "\n",
    "        if run.status == \"failed\" or run.status == \"incomplete\":\n",
    "            print(f\"Run failed: {run.last_error}\")\n",
    "\n",
    "        # Delete the agent when done\n",
    "        project_client.agents.delete_agent(agent.id)\n",
    "        print(\"Deleted agent\")\n",
    "\n",
    "        # Fetch and log all messages\n",
    "        messages = project_client.agents.list_messages(thread_id=thread.id)\n",
    "        print(f\"Messages: {messages}\")"
   ]
  },
  {
   "cell_type": "code",
   "execution_count": null,
   "id": "c8ac69e4",
   "metadata": {},
   "outputs": [],
   "source": []
  }
 ],
 "metadata": {
  "kernelspec": {
   "display_name": ".venv",
   "language": "python",
   "name": "python3"
  },
  "language_info": {
   "codemirror_mode": {
    "name": "ipython",
    "version": 3
   },
   "file_extension": ".py",
   "mimetype": "text/x-python",
   "name": "python",
   "nbconvert_exporter": "python",
   "pygments_lexer": "ipython3",
   "version": "3.13.2"
  }
 },
 "nbformat": 4,
 "nbformat_minor": 5
}
